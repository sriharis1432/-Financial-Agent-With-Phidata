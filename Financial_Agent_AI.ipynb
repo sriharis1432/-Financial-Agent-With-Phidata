{
  "nbformat": 4,
  "nbformat_minor": 0,
  "metadata": {
    "colab": {
      "provenance": []
    },
    "kernelspec": {
      "name": "python3",
      "display_name": "Python 3"
    },
    "language_info": {
      "name": "python"
    }
  },
  "cells": [
    {
      "cell_type": "markdown",
      "source": [
        "# Building First Agentic AI- Financial Agent With Phidata\n",
        "\n",
        "Phidata_key =\" \"\n",
        "\n",
        "Groq_key=\" \"\n",
        "\n",
        "openAi_key=\" \""
      ],
      "metadata": {
        "id": "qJeaB4xM62Im"
      }
    },
    {
      "cell_type": "code",
      "execution_count": null,
      "metadata": {
        "id": "_IbLAZWl4WW0"
      },
      "outputs": [],
      "source": [
        "from phi.agent import Agent\n",
        "# from phi.model.openai import OpenAIChat\n",
        "from phi.model.groq import Groq\n",
        "from phi.tools.yfinance import YFinanceTools\n",
        "from phi.tools.duckduckgo import DuckDuckGo\n",
        "\n",
        "web_agent = Agent(\n",
        "    name=\"Web Agent\",\n",
        "    model=Groq(id=\"llama-3.1-70b-versatile\"),  # OpenAIChat(id=\"gpt-4o\")\n",
        "    tools=[DuckDuckGo()],\n",
        "    instructions=[\"Always include sources\"],\n",
        "    show_tool_calls=True,\n",
        "    markdown=True,\n",
        ")\n",
        "# web_agent.print_response(\"Whats happening in France?\", stream=True)\n",
        "\n",
        "\n",
        "finance_agent = Agent(\n",
        "    name=\"Finance Agent\",\n",
        "    model=Groq(id=\"llama-3.1-70b-versatile\"),  # OpenAIChat(id=\"gpt-4o\")\n",
        "    tools=[YFinanceTools(stock_price=True, analyst_recommendations=True, company_info=True, company_news=True)],\n",
        "    instructions=[\"Use tables to display data\"],\n",
        "    show_tool_calls=True,\n",
        "    markdown=True,\n",
        ")\n",
        "# finance_agent.print_response(\"Summarize analyst recommendations for NVDA\", stream=True)\n",
        "\n",
        "\n",
        "\n",
        "multi_ai_agent=Agent(\n",
        "    team=[agent_search,agent_finace],\n",
        "    model=Groq(id=\"llama-3.1-70b-versatile\"),\n",
        "    instructions=[\"Always include sources\", \"Use tables to display data\"],\n",
        "    show_tool_calls=True,\n",
        "    markdown=True,\n",
        ")\n",
        "multi_ai_agent.print_response(\"Summarize analyst recommendations and share the latest news for NVDA\", stream=True)\n",
        "\n"
      ]
    },
    {
      "cell_type": "markdown",
      "source": [
        "\n",
        "# Building Agentic AI using Flask webframe work- For Financial Agent With Phidata\n"
      ],
      "metadata": {
        "id": "5Gbriuk67_-1"
      }
    },
    {
      "cell_type": "code",
      "source": [
        "from flask import Flask, request, jsonify\n",
        "from phi.agent import Agent\n",
        "from phi.model.groq import Groq\n",
        "from phi.tools.yfinance import YFinanceTools\n",
        "from phi.tools.duckduckgo import DuckDuckGo\n",
        "\n",
        "# Initialize Flask app\n",
        "app = Flask(__name__)\n",
        "\n",
        "# Define agents\n",
        "web_agent = Agent(\n",
        "    name=\"Web Agent\",\n",
        "    model=Groq(id=\"llama-3.1-70b-versatile\"),\n",
        "    tools=[DuckDuckGo()],\n",
        "    instructions=[\"Always include sources\"],\n",
        "    show_tool_calls=True,\n",
        "    markdown=True,\n",
        ")\n",
        "\n",
        "finance_agent = Agent(\n",
        "    name=\"Finance Agent\",\n",
        "    model=Groq(id=\"llama-3.1-70b-versatile\"),\n",
        "    tools=[YFinanceTools(stock_price=True, analyst_recommendations=True, company_info=True, company_news=True)],\n",
        "    instructions=[\"Use tables to display data\"],\n",
        "    show_tool_calls=True,\n",
        "    markdown=True,\n",
        ")\n",
        "\n",
        "multi_ai_agent = Agent(\n",
        "    team=[web_agent, finance_agent],\n",
        "    model=Groq(id=\"llama-3.1-70b-versatile\"),\n",
        "    instructions=[\"Always include sources\", \"Use tables to display data\"],\n",
        "    show_tool_calls=True,\n",
        "    markdown=True,\n",
        ")\n",
        "\n",
        "# Define API routes\n",
        "@app.route('/web_agent', methods=['POST'])\n",
        "def query_web_agent():\n",
        "    query = request.json.get('query')\n",
        "    if not query:\n",
        "        return jsonify({\"error\": \"Query is required\"}), 400\n",
        "\n",
        "    response = web_agent.print_response(query, stream=False)\n",
        "    return jsonify({\"response\": response})\n",
        "\n",
        "@app.route('/finance_agent', methods=['POST'])\n",
        "def query_finance_agent():\n",
        "    query = request.json.get('query')\n",
        "    if not query:\n",
        "        return jsonify({\"error\": \"Query is required\"}), 400\n",
        "\n",
        "    response = finance_agent.print_response(query, stream=False)\n",
        "    return jsonify({\"response\": response})\n",
        "\n",
        "@app.route('/multi_agent', methods=['POST'])\n",
        "def query_multi_agent():\n",
        "    query = request.json.get('query')\n",
        "    if not query:\n",
        "        return jsonify({\"error\": \"Query is required\"}), 400\n",
        "\n",
        "    response = multi_ai_agent.print_response(query, stream=False)\n",
        "    return jsonify({\"response\": response})\n",
        "\n",
        "# Main entry point\n",
        "if __name__ == '__main__':\n",
        "    app.run(debug=True)"
      ],
      "metadata": {
        "id": "cq5P7uJb6S_E"
      },
      "execution_count": null,
      "outputs": []
    },
    {
      "cell_type": "markdown",
      "source": [
        "# Building Agentic AI using Phi API webframe - For Financial Agent With Phidata"
      ],
      "metadata": {
        "id": "zdtyyS05-88i"
      }
    },
    {
      "cell_type": "code",
      "source": [
        "from phi.agent import Agent\n",
        "# from phi.model.openai import OpenAIChat\n",
        "import phi.api\n",
        "from phi.model.groq import Groq\n",
        "from phi.tools.yfinance import YFinanceTools\n",
        "from phi.tools.duckduckgo import DuckDuckGo\n",
        "from dotenv import load_dotenv\n",
        "\n",
        "import os\n",
        "from phi.playground import Playground, serve_playground_app\n",
        "\n",
        "load_dotenv()\n",
        "\n",
        "phi.api=os.getenv('PHI_API_key')\n",
        "\n",
        "web_agent = Agent(\n",
        "    name=\"Web Agent\",\n",
        "    model=Groq(id=\"llama-3.1-70b-versatile\"),  # OpenAIChat(id=\"gpt-4o\")\n",
        "    tools=[DuckDuckGo()],\n",
        "    instructions=[\"Always include sources\"],\n",
        "    show_tool_calls=True,\n",
        "    markdown=True,\n",
        ")\n",
        "# web_agent.print_response(\"Whats happening in France?\", stream=True)\n",
        "\n",
        "\n",
        "finance_agent = Agent(\n",
        "    name=\"Finance Agent\",\n",
        "    model=Groq(id=\"llama-3.1-70b-versatile\"),  # OpenAIChat(id=\"gpt-4o\")\n",
        "    tools=[YFinanceTools(stock_price=True, analyst_recommendations=True, company_info=True, company_news=True)],\n",
        "    instructions=[\"Use tables to display data\"],\n",
        "    show_tool_calls=True,\n",
        "    markdown=True,\n",
        ")\n",
        "# finance_agent.print_response(\"Summarize analyst recommendations for NVDA\", stream=True)\n",
        "\n",
        "app=Playground(agents=[finance_agent,web_agent]).get_app()\n",
        "\n",
        "\n",
        "if __name__==\"_-main__\":\n",
        "  serve_playground_app(\"playground:app\",reload=True)        #app - retrive the code, playground - app name\n"
      ],
      "metadata": {
        "id": "glTRJ03S8nZJ"
      },
      "execution_count": null,
      "outputs": []
    }
  ]
}